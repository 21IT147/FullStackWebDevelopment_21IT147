{
  "nbformat": 4,
  "nbformat_minor": 0,
  "metadata": {
    "colab": {
      "provenance": [],
      "authorship_tag": "ABX9TyPx3Dtcm6goRnFfSyDnvvkq",
      "include_colab_link": true
    },
    "kernelspec": {
      "name": "python3",
      "display_name": "Python 3"
    },
    "language_info": {
      "name": "python"
    }
  },
  "cells": [
    {
      "cell_type": "markdown",
      "metadata": {
        "id": "view-in-github",
        "colab_type": "text"
      },
      "source": [
        "<a href=\"https://colab.research.google.com/github/21IT147/FullStackWebDevelopment_Keval/blob/FullStackWebDevelopment_Keval/21IT147_InternalPracticalExam.ipynb\" target=\"_parent\"><img src=\"https://colab.research.google.com/assets/colab-badge.svg\" alt=\"Open In Colab\"/></a>"
      ]
    },
    {
      "cell_type": "markdown",
      "source": [
        "\n",
        "Import numpy package Create Numpy array numpy_array_1 of 5 X 6 with values in range 3 to 32 Remove the last column and convert it to 5 X 5 Matrix."
      ],
      "metadata": {
        "id": "qhnn-7x8LOFU"
      }
    },
    {
      "cell_type": "code",
      "source": [
        "import numpy as num\n",
        "\n",
        "numpy_array_1 = num.arange(3,33).reshape(5,6)\n",
        "\n",
        "numpy_array_1 = numpy_array_1[:,:5]\n",
        "\n",
        "print(numpy_array_1)"
      ],
      "metadata": {
        "colab": {
          "base_uri": "https://localhost:8080/"
        },
        "id": "mk5LAVGFLQju",
        "outputId": "e66254bb-67e7-4ec5-c191-e81f8ced87d3"
      },
      "execution_count": 14,
      "outputs": [
        {
          "output_type": "stream",
          "name": "stdout",
          "text": [
            "[[ 3  4  5  6  7]\n",
            " [ 9 10 11 12 13]\n",
            " [15 16 17 18 19]\n",
            " [21 22 23 24 25]\n",
            " [27 28 29 30 31]]\n"
          ]
        }
      ]
    },
    {
      "cell_type": "markdown",
      "source": [
        "Code Description:\n",
        "\n",
        "Here in this code:\n",
        "\n",
        "I have imported numpy package as num .\n",
        "\n",
        "Using arange function I have taken values between 3 and 32 and using reshape function I have given it shape as 5 x 6 matrix.\n",
        "\n",
        "Then I have selected all rows and first 5 columns from that array.\n",
        "\n",
        "Then at last I have printed the numpy_array_1."
      ],
      "metadata": {
        "id": "yONvJNqgOOig"
      }
    },
    {
      "cell_type": "markdown",
      "source": [
        "\n",
        "Create Person Class with following requirements\n",
        "Create constructor to initialize name,adhar_no.\n",
        "Create method set_name and get_name to operate with name field of class.\n",
        "Create method set_adhar and get_adhar to operate with aadhar_no field of class."
      ],
      "metadata": {
        "id": "wpU_u0GLLvVK"
      }
    },
    {
      "cell_type": "code",
      "source": [
        "class Person:\n",
        "\n",
        "  def __init__(self):\n",
        "    self.name = None\n",
        "    self.adhar_no = None\n",
        "\n",
        "\n",
        "  def set_name(self,name):\n",
        "    self.name = name\n",
        "\n",
        "  def get_name(self):\n",
        "    return self.name\n",
        "\n",
        "  def set_adhar(self,adhar_no):\n",
        "    self.adhar_no = adhar_no\n",
        "\n",
        "  def get_adhar(self):\n",
        "    return self.adhar_no\n",
        "\n",
        "\n",
        "\n",
        "P1 = Person()\n",
        "\n",
        "P1.set_name(\"Keval\")\n",
        "\n",
        "P1.set_adhar(985156445936)\n",
        "\n",
        "print(\"Name of Person is\",P1.get_name(),\"and his adhar number is\",P1.get_adhar())\n",
        "\n"
      ],
      "metadata": {
        "colab": {
          "base_uri": "https://localhost:8080/"
        },
        "id": "YvLWp5LmME8R",
        "outputId": "61771c57-3051-4042-eeb9-7a93e6cb7e2e"
      },
      "execution_count": 16,
      "outputs": [
        {
          "output_type": "stream",
          "name": "stdout",
          "text": [
            "Name of Person is Keval and his adhar number is 985156445936\n"
          ]
        }
      ]
    },
    {
      "cell_type": "markdown",
      "source": [
        "Code Description:\n",
        "\n",
        "Here in this code:\n",
        "\n",
        "I have declared class named Person.\n",
        "\n",
        "I have defined constructor for object creation which initializez values as None\n",
        "\n",
        "I have defined set_name method which takes self and name as parameter and updated value of name of Person.\n",
        "\n",
        "I have defined get_name method which takes self as parameter and returns name of that Person.\n",
        "\n",
        "I have defined set_adhar method which takes self and adhar_no as parameter and updated value of adhar_no of Person.\n",
        "\n",
        "I have defined get_adhar method which takes self as parameter and returns adhar_no of that Person.\n",
        "\n",
        "Created P1 as an object of Person.\n",
        "\n",
        "I have set name of P1 using set_name function.\n",
        "\n",
        "I have set adhar_no of P1 using set_adhar function.\n",
        "\n",
        "I have printed name and adhar_no of Person using get_name and get_adhar functions."
      ],
      "metadata": {
        "id": "7joH_ZudPYRX"
      }
    }
  ]
}